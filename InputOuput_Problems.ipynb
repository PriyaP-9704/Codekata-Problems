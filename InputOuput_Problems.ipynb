{
  "nbformat": 4,
  "nbformat_minor": 0,
  "metadata": {
    "colab": {
      "provenance": [],
      "authorship_tag": "ABX9TyNtdHWNkXIm1hqg5ANz5fU0",
      "include_colab_link": true
    },
    "kernelspec": {
      "name": "python3",
      "display_name": "Python 3"
    },
    "language_info": {
      "name": "python"
    }
  },
  "cells": [
    {
      "cell_type": "markdown",
      "metadata": {
        "id": "view-in-github",
        "colab_type": "text"
      },
      "source": [
        "<a href=\"https://colab.research.google.com/github/PriyaP-9704/Codekata-Problems/blob/main/InputOuput_Problems.ipynb\" target=\"_parent\"><img src=\"https://colab.research.google.com/assets/colab-badge.svg\" alt=\"Open In Colab\"/></a>"
      ]
    },
    {
      "cell_type": "markdown",
      "source": [
        "1.Write a code to get the input in the given format and print the output in the given format"
      ],
      "metadata": {
        "id": "nlfH6kVMWkZz"
      }
    },
    {
      "cell_type": "code",
      "execution_count": null,
      "metadata": {
        "id": "kKzNGrCKWY0b"
      },
      "outputs": [],
      "source": [
        "a = int(input())\n",
        "print(a)"
      ]
    },
    {
      "cell_type": "markdown",
      "source": [
        "2.Write a code to get the input in the given format and print the output in the given format"
      ],
      "metadata": {
        "id": "Wy-7sUeuWqy8"
      }
    },
    {
      "cell_type": "code",
      "source": [
        "sample1=list(input())\n",
        "\n",
        "#print (''.join (map(str, sample1)))\n",
        "\n",
        "for i in range (len(sample1)):\n",
        "    print (sample1[i], end = \"\")"
      ],
      "metadata": {
        "id": "N0pw9shbWx3i"
      },
      "execution_count": null,
      "outputs": []
    },
    {
      "cell_type": "markdown",
      "source": [
        "3.Write a code to get the input in the given format and print the output in the given format"
      ],
      "metadata": {
        "id": "-NAa8O3JW6St"
      }
    },
    {
      "cell_type": "code",
      "source": [
        "first = map(int, input().split())\n",
        "second = map(int, input().split())\n",
        "print (*first)\n",
        "print (*second)\n",
        "#print (''.join(map(str,first)))\n",
        "#print (''.join(map(str,second)))"
      ],
      "metadata": {
        "id": "HlkkuDksW_C4"
      },
      "execution_count": null,
      "outputs": []
    },
    {
      "cell_type": "markdown",
      "source": [
        "4. Write a code to get the input in the given format and print the output in the given format"
      ],
      "metadata": {
        "id": "XrOmImrbXON5"
      }
    },
    {
      "cell_type": "code",
      "source": [
        "first = list (input ())\n",
        "second = list (input ())\n",
        "third = list (input ())\n",
        "print (''. join(map(str,first)))\n",
        "print (''. join(map(str,second)))\n",
        "print (''. join(map(str,third)))"
      ],
      "metadata": {
        "id": "Q-pFB19_XSIC"
      },
      "execution_count": null,
      "outputs": []
    }
  ]
}