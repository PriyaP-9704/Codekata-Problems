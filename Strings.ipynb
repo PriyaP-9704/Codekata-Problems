{
  "nbformat": 4,
  "nbformat_minor": 0,
  "metadata": {
    "colab": {
      "provenance": [],
      "authorship_tag": "ABX9TyPJz2lpChc47llTSUee/xMl",
      "include_colab_link": true
    },
    "kernelspec": {
      "name": "python3",
      "display_name": "Python 3"
    },
    "language_info": {
      "name": "python"
    }
  },
  "cells": [
    {
      "cell_type": "markdown",
      "metadata": {
        "id": "view-in-github",
        "colab_type": "text"
      },
      "source": [
        "<a href=\"https://colab.research.google.com/github/PriyaP-9704/Codekata-Problems/blob/main/Strings.ipynb\" target=\"_parent\"><img src=\"https://colab.research.google.com/assets/colab-badge.svg\" alt=\"Open In Colab\"/></a>"
      ]
    },
    {
      "cell_type": "markdown",
      "source": [
        "1. you are given a string made up of parenthesis only.Your task is to check whether parenthesis are balanced or not.If they are balanced print 1 else print 0"
      ],
      "metadata": {
        "id": "Q3u4U-8o8dvz"
      }
    },
    {
      "cell_type": "code",
      "execution_count": null,
      "metadata": {
        "id": "NWGEyvW37Qqf"
      },
      "outputs": [],
      "source": [
        "def are_brackets_balanced(s):\n",
        "    stack = []\n",
        "    for ch in s:\n",
        "        if ch in ('(', '{', '['):\n",
        "            stack.append(ch)\n",
        "        else:\n",
        "            if stack and ((stack[-1] == '(' and ch == ')') or\n",
        "                          (stack[-1] == '{' and ch == '}') or\n",
        "                          (stack[-1] == '[' and ch == ']')):\n",
        "                stack.pop()\n",
        "            else:\n",
        "                return False\n",
        "    return not stack\n",
        "expr = input()\n",
        "# Function call\n",
        "if are_brackets_balanced(expr):\n",
        "    print(\"1\")\n",
        "else:\n",
        "    print(\"0\")"
      ]
    },
    {
      "cell_type": "markdown",
      "source": [
        "2. In XYZ country there is rule that car’s engine no. depends upon car’ number plate. Engine no is sum of all the integers present on car’s Number plate.The issuing authority has hired you in order to provide engine no. to the cars.Your task is to develop an algorithm which takes input as in form of string(Number plate) and gives back"
      ],
      "metadata": {
        "id": "2cFmcS4Q_QGB"
      }
    },
    {
      "cell_type": "code",
      "source": [
        "car_num = input()\n",
        "\n",
        "list_num = list(car_num)\n",
        "\n",
        "num = [int(i) for i in list_num if i.isdigit()]\n",
        "\n",
        "sum = sum(num)\n",
        "\n",
        "print(sum)"
      ],
      "metadata": {
        "id": "UMGqSUbZ_VAZ"
      },
      "execution_count": null,
      "outputs": []
    },
    {
      "cell_type": "markdown",
      "source": [
        "3. Print the string from characters right to left"
      ],
      "metadata": {
        "id": "hY1GJFHN_XbH"
      }
    },
    {
      "cell_type": "code",
      "source": [
        "s = input()\n",
        "\n",
        "output = s[::-1]\n",
        "output = output[0].upper() + output[1:len(output)]\n",
        "output = output[0:(len(output)-1)]+output[-1].lower()\n",
        "print(output)"
      ],
      "metadata": {
        "colab": {
          "base_uri": "https://localhost:8080/"
        },
        "id": "WNw1SQPbAF_M",
        "outputId": "afc76c10-a3a9-41dc-d494-0243f25a1296"
      },
      "execution_count": 5,
      "outputs": [
        {
          "output_type": "stream",
          "name": "stdout",
          "text": [
            "Priya\n",
            "Ayirp\n"
          ]
        }
      ]
    },
    {
      "cell_type": "markdown",
      "source": [
        "4. Given a string S, print 'yes' if it has a vowel in it else print 'no'."
      ],
      "metadata": {
        "id": "wETO93PoJeI9"
      }
    },
    {
      "cell_type": "code",
      "source": [
        "s = input()\n",
        "flag = 0\n",
        "vowels = [\"a\",\"e\",\"i\",\"o\",\"u\",\"A\",\"E\",\"I\",\"O\",\"U\"]\n",
        "for i in s:\n",
        "  if i in vowels:\n",
        "    print(\"yes\")\n",
        "    flag = 1\n",
        "    break\n",
        "  else:\n",
        "    flag = 0\n",
        "if flag ==0:\n",
        "  print(\"no\")"
      ],
      "metadata": {
        "colab": {
          "base_uri": "https://localhost:8080/"
        },
        "id": "PLL417MYJh9r",
        "outputId": "abe8f6bc-5925-4405-a1ca-27125eb30e60"
      },
      "execution_count": 7,
      "outputs": [
        {
          "output_type": "stream",
          "name": "stdout",
          "text": [
            "zsdg\n",
            "no\n"
          ]
        }
      ]
    },
    {
      "cell_type": "markdown",
      "source": [
        "5. You are given a string.Your task is to print only the consonants present in the string without affecting the sentence spacings if present. If no consonants are present print -1"
      ],
      "metadata": {
        "id": "tIMgVdoHPMGI"
      }
    },
    {
      "cell_type": "code",
      "source": [
        "from os import replace\n",
        "s = input()\n",
        "vowels = [\"a\",\"e\",\"i\",\"o\",\"u\",\"A\",\"E\",\"I\",\"O\",\"U\"]\n",
        "for i in s:\n",
        "  if i in vowels:\n",
        "    s = s.replace(i,\"\")\n",
        "print(s)"
      ],
      "metadata": {
        "colab": {
          "base_uri": "https://localhost:8080/"
        },
        "id": "BlmIKIu2PNth",
        "outputId": "154d423b-5c33-43e1-8630-230df6e29aaf"
      },
      "execution_count": 16,
      "outputs": [
        {
          "output_type": "stream",
          "name": "stdout",
          "text": [
            "i love you\n",
            " lv y\n"
          ]
        }
      ]
    },
    {
      "cell_type": "markdown",
      "source": [
        "6. Print 1 if String is palindrome or 0 if not"
      ],
      "metadata": {
        "id": "XWOCwgJnR2ez"
      }
    },
    {
      "cell_type": "code",
      "source": [
        "s = input()\n",
        "\n",
        "if s == s[::-1]:\n",
        "    print(\"1\")\n",
        "else:\n",
        "    print(\"0\")"
      ],
      "metadata": {
        "colab": {
          "base_uri": "https://localhost:8080/"
        },
        "id": "gD5tKTrwSE40",
        "outputId": "801d9dad-b5e6-4132-d548-2c5c0bc55aee"
      },
      "execution_count": 17,
      "outputs": [
        {
          "output_type": "stream",
          "name": "stdout",
          "text": [
            "nitin\n",
            "1\n"
          ]
        }
      ]
    }
  ]
}