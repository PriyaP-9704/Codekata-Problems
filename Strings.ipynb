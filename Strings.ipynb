{
  "nbformat": 4,
  "nbformat_minor": 0,
  "metadata": {
    "colab": {
      "provenance": [],
      "authorship_tag": "ABX9TyMUuASk8jcXMOSkp2PFQFzR",
      "include_colab_link": true
    },
    "kernelspec": {
      "name": "python3",
      "display_name": "Python 3"
    },
    "language_info": {
      "name": "python"
    }
  },
  "cells": [
    {
      "cell_type": "markdown",
      "metadata": {
        "id": "view-in-github",
        "colab_type": "text"
      },
      "source": [
        "<a href=\"https://colab.research.google.com/github/PriyaP-9704/Codekata-Problems/blob/main/Strings.ipynb\" target=\"_parent\"><img src=\"https://colab.research.google.com/assets/colab-badge.svg\" alt=\"Open In Colab\"/></a>"
      ]
    },
    {
      "cell_type": "markdown",
      "source": [
        "1. you are given a string made up of parenthesis only.Your task is to check whether parenthesis are balanced or not.If they are balanced print 1 else print 0"
      ],
      "metadata": {
        "id": "Q3u4U-8o8dvz"
      }
    },
    {
      "cell_type": "code",
      "execution_count": null,
      "metadata": {
        "id": "NWGEyvW37Qqf"
      },
      "outputs": [],
      "source": [
        "def are_brackets_balanced(s):\n",
        "    stack = []\n",
        "    for ch in s:\n",
        "        if ch in ('(', '{', '['):\n",
        "            stack.append(ch)\n",
        "        else:\n",
        "            if stack and ((stack[-1] == '(' and ch == ')') or\n",
        "                          (stack[-1] == '{' and ch == '}') or\n",
        "                          (stack[-1] == '[' and ch == ']')):\n",
        "                stack.pop()\n",
        "            else:\n",
        "                return False\n",
        "    return not stack\n",
        "expr = input()\n",
        "# Function call\n",
        "if are_brackets_balanced(expr):\n",
        "    print(\"1\")\n",
        "else:\n",
        "    print(\"0\")"
      ]
    },
    {
      "cell_type": "markdown",
      "source": [
        "2. In XYZ country there is rule that car’s engine no. depends upon car’ number plate. Engine no is sum of all the integers present on car’s Number plate.The issuing authority has hired you in order to provide engine no. to the cars.Your task is to develop an algorithm which takes input as in form of string(Number plate) and gives back"
      ],
      "metadata": {
        "id": "2cFmcS4Q_QGB"
      }
    },
    {
      "cell_type": "code",
      "source": [
        "car_num = input()\n",
        "\n",
        "list_num = list(car_num)\n",
        "\n",
        "num = [int(i) for i in list_num if i.isdigit()]\n",
        "\n",
        "sum = sum(num)\n",
        "\n",
        "print(sum)"
      ],
      "metadata": {
        "id": "UMGqSUbZ_VAZ"
      },
      "execution_count": null,
      "outputs": []
    },
    {
      "cell_type": "markdown",
      "source": [
        "3. Print the string from characters right to left"
      ],
      "metadata": {
        "id": "hY1GJFHN_XbH"
      }
    },
    {
      "cell_type": "code",
      "source": [
        "s = input()\n",
        "\n",
        "output = s[::-1]\n",
        "output = output[0].upper() + output[1:len(output)]\n",
        "output = output[0:(len(output)-1)]+output[-1].lower()\n",
        "print(output)"
      ],
      "metadata": {
        "colab": {
          "base_uri": "https://localhost:8080/"
        },
        "id": "WNw1SQPbAF_M",
        "outputId": "afc76c10-a3a9-41dc-d494-0243f25a1296"
      },
      "execution_count": null,
      "outputs": [
        {
          "output_type": "stream",
          "name": "stdout",
          "text": [
            "Priya\n",
            "Ayirp\n"
          ]
        }
      ]
    },
    {
      "cell_type": "markdown",
      "source": [
        "4. Given a string S, print 'yes' if it has a vowel in it else print 'no'."
      ],
      "metadata": {
        "id": "wETO93PoJeI9"
      }
    },
    {
      "cell_type": "code",
      "source": [
        "s = input()\n",
        "flag = 0\n",
        "vowels = [\"a\",\"e\",\"i\",\"o\",\"u\",\"A\",\"E\",\"I\",\"O\",\"U\"]\n",
        "for i in s:\n",
        "  if i in vowels:\n",
        "    print(\"yes\")\n",
        "    flag = 1\n",
        "    break\n",
        "  else:\n",
        "    flag = 0\n",
        "if flag ==0:\n",
        "  print(\"no\")"
      ],
      "metadata": {
        "colab": {
          "base_uri": "https://localhost:8080/"
        },
        "id": "PLL417MYJh9r",
        "outputId": "abe8f6bc-5925-4405-a1ca-27125eb30e60"
      },
      "execution_count": null,
      "outputs": [
        {
          "output_type": "stream",
          "name": "stdout",
          "text": [
            "zsdg\n",
            "no\n"
          ]
        }
      ]
    },
    {
      "cell_type": "markdown",
      "source": [
        "5. You are given a string.Your task is to print only the consonants present in the string without affecting the sentence spacings if present. If no consonants are present print -1"
      ],
      "metadata": {
        "id": "tIMgVdoHPMGI"
      }
    },
    {
      "cell_type": "code",
      "source": [
        "from os import replace\n",
        "s = input()\n",
        "vowels = [\"a\",\"e\",\"i\",\"o\",\"u\",\"A\",\"E\",\"I\",\"O\",\"U\"]\n",
        "for i in s:\n",
        "  if i in vowels:\n",
        "    s = s.replace(i,\"\")\n",
        "print(s)"
      ],
      "metadata": {
        "colab": {
          "base_uri": "https://localhost:8080/"
        },
        "id": "BlmIKIu2PNth",
        "outputId": "154d423b-5c33-43e1-8630-230df6e29aaf"
      },
      "execution_count": null,
      "outputs": [
        {
          "output_type": "stream",
          "name": "stdout",
          "text": [
            "i love you\n",
            " lv y\n"
          ]
        }
      ]
    },
    {
      "cell_type": "markdown",
      "source": [
        "6. Print 1 if String is palindrome or 0 if not"
      ],
      "metadata": {
        "id": "XWOCwgJnR2ez"
      }
    },
    {
      "cell_type": "code",
      "source": [
        "s = input()\n",
        "\n",
        "if s == s[::-1]:\n",
        "    print(\"1\")\n",
        "else:\n",
        "    print(\"0\")"
      ],
      "metadata": {
        "colab": {
          "base_uri": "https://localhost:8080/"
        },
        "id": "gD5tKTrwSE40",
        "outputId": "801d9dad-b5e6-4132-d548-2c5c0bc55aee"
      },
      "execution_count": null,
      "outputs": [
        {
          "output_type": "stream",
          "name": "stdout",
          "text": [
            "nitin\n",
            "1\n"
          ]
        }
      ]
    },
    {
      "cell_type": "markdown",
      "source": [
        "7. You are given a number with duplicate digits your task is to remove the immediate duplicate digits and print the result"
      ],
      "metadata": {
        "id": "iIj0pMyPSw5t"
      }
    },
    {
      "cell_type": "code",
      "source": [
        "s = input()\n",
        "s = list(s)\n",
        "for i in range(0, len(s)-1,1):\n",
        "  if s[i]== s[i+1]:\n",
        "    s[i] =\"\"\n",
        "    s[i+1]=\"\"\n",
        "s = \"\".join([i for i in s])\n",
        "print(s)"
      ],
      "metadata": {
        "colab": {
          "base_uri": "https://localhost:8080/"
        },
        "id": "p4UVZbiBSzUf",
        "outputId": "5dedb9d1-eee9-4414-d31c-59b9526c4404"
      },
      "execution_count": null,
      "outputs": [
        {
          "output_type": "stream",
          "name": "stdout",
          "text": [
            "112345567889\n",
            "234679\n"
          ]
        }
      ]
    },
    {
      "cell_type": "markdown",
      "source": [
        "8. Given a string 'S' print the sum of weight of the String. A weight of character is defined as the ASCII value of corresponding character."
      ],
      "metadata": {
        "id": "1T5QI5G-WtYn"
      }
    },
    {
      "cell_type": "code",
      "source": [
        "s = input()\n",
        "sum = 0\n",
        "for i in s:\n",
        "  sum = sum + ord(i)\n",
        "\n",
        "print(sum)"
      ],
      "metadata": {
        "colab": {
          "base_uri": "https://localhost:8080/"
        },
        "id": "FvgVLuMaWw3A",
        "outputId": "07f9b124-ec7c-4573-8709-0fb598e932dc"
      },
      "execution_count": null,
      "outputs": [
        {
          "output_type": "stream",
          "name": "stdout",
          "text": [
            "abc\n",
            "294\n"
          ]
        }
      ]
    },
    {
      "cell_type": "markdown",
      "source": [
        "9. Print the all the words that are left in the string 's' so that the words in the output sentence have distinct words compared to their adjacent words. Print -1 if no words are left"
      ],
      "metadata": {
        "id": "pJBTPHhPXGPr"
      }
    },
    {
      "cell_type": "code",
      "source": [
        "s = input()\n",
        "count = 0\n",
        "list_s = list(s.split())\n",
        "length = len(list_s)\n",
        "for i in range(0, length,1):\n",
        "  for j in range(0, length,1):\n",
        "    print (\"J starting for loop: \",\"i = \",i,\"j = \",j)\n",
        "    if list_s[i] == list_s[j] and j < len(list_s)and i < len(list_s):\n",
        "      count = count+1\n",
        "      print (\"J for loop: \",\"i = \",i,\"j = \",j,\"count =\",count)\n",
        "  if count >= 2:\n",
        "    value = list_s[i]\n",
        "    for i in range (0,count,1):\n",
        "      list_s.remove(value)\n",
        "    print(list_s)\n",
        "    count = 0\n",
        "    length = len(list_s)\n",
        "  else:\n",
        "    count = 0\n",
        "    length = len(list_s)"
      ],
      "metadata": {
        "id": "DQF6Z8FtXFal"
      },
      "execution_count": null,
      "outputs": []
    },
    {
      "cell_type": "markdown",
      "source": [
        "10.You are given two numbers. Your task is to multiply the two numbers and print the answer."
      ],
      "metadata": {
        "id": "KFWXjvGhASCV"
      }
    },
    {
      "cell_type": "code",
      "source": [
        "n,m = map(int, input().split())\n",
        "\n",
        "ans = n*m\n",
        "print(ans)"
      ],
      "metadata": {
        "id": "X5XYh6hIAT_c"
      },
      "execution_count": null,
      "outputs": []
    },
    {
      "cell_type": "markdown",
      "source": [
        "11. You are given with a string which comprises of some numbers. Your task is to find the largest integer by converting the string to the corresponding integer."
      ],
      "metadata": {
        "id": "hA5KIUJZAUoh"
      }
    },
    {
      "cell_type": "code",
      "source": [
        "str = input()\n",
        "list_str = str.split()\n",
        "num_list = []\n",
        "for i in list_str:\n",
        "    if i.isdigit():\n",
        "        num_list.append(i)\n",
        "\n",
        "print(max(num_list))"
      ],
      "metadata": {
        "id": "2lCfnSFBAXXN"
      },
      "execution_count": null,
      "outputs": []
    }
  ]
}