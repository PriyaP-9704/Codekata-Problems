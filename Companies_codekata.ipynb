{
  "nbformat": 4,
  "nbformat_minor": 0,
  "metadata": {
    "colab": {
      "provenance": [],
      "authorship_tag": "ABX9TyMu+CYVChwD/ZirFdayzrVB",
      "include_colab_link": true
    },
    "kernelspec": {
      "name": "python3",
      "display_name": "Python 3"
    },
    "language_info": {
      "name": "python"
    }
  },
  "cells": [
    {
      "cell_type": "markdown",
      "metadata": {
        "id": "view-in-github",
        "colab_type": "text"
      },
      "source": [
        "<a href=\"https://colab.research.google.com/github/PriyaP-9704/Codekata-Problems/blob/main/Companies_codekata.ipynb\" target=\"_parent\"><img src=\"https://colab.research.google.com/assets/colab-badge.svg\" alt=\"Open In Colab\"/></a>"
      ]
    },
    {
      "cell_type": "markdown",
      "source": [
        "1.Given a number N and an array of N strings,Print yes, if all strings have atleast one vowel in them otherwise print no."
      ],
      "metadata": {
        "id": "VJvpEhndcfTa"
      }
    },
    {
      "cell_type": "code",
      "execution_count": 1,
      "metadata": {
        "colab": {
          "base_uri": "https://localhost:8080/"
        },
        "id": "Qt54iVM_cayJ",
        "outputId": "2184c602-61b1-4d89-957b-5587f7be2ec3"
      },
      "outputs": [
        {
          "output_type": "stream",
          "name": "stdout",
          "text": [
            "2\n",
            "abc\n",
            "2 ['c']\n"
          ]
        }
      ],
      "source": [
        "n = int(input())\n",
        "arr = list(input())[n:]\n",
        "print(n,arr)"
      ]
    },
    {
      "cell_type": "markdown",
      "source": [
        "3.Given a number N followed by a list of N numbers. Write a program to reverse the list and print the list."
      ],
      "metadata": {
        "id": "BLVzkkladwKg"
      }
    },
    {
      "cell_type": "code",
      "source": [
        "n = int(input())\n",
        "arr = list(map(str, input().split()))\n",
        "rev_arr = (arr[::-1])\n",
        "str = \"->\".join(rev_arr)\n",
        "print(str)"
      ],
      "metadata": {
        "colab": {
          "base_uri": "https://localhost:8080/"
        },
        "id": "SWJb6bTHdzZH",
        "outputId": "375b2dca-785b-4ea0-df73-78176fa6f208"
      },
      "execution_count": 8,
      "outputs": [
        {
          "output_type": "stream",
          "name": "stdout",
          "text": [
            "5\n",
            "1 2 3 4 5\n",
            "['5', '4', '3', '2', '1']\n",
            "5->4->3->2->1\n"
          ]
        }
      ]
    }
  ]
}