{
  "nbformat": 4,
  "nbformat_minor": 0,
  "metadata": {
    "colab": {
      "provenance": [],
      "authorship_tag": "ABX9TyMTUwX0V97Y0yGhzybpX0H/",
      "include_colab_link": true
    },
    "kernelspec": {
      "name": "python3",
      "display_name": "Python 3"
    },
    "language_info": {
      "name": "python"
    }
  },
  "cells": [
    {
      "cell_type": "markdown",
      "metadata": {
        "id": "view-in-github",
        "colab_type": "text"
      },
      "source": [
        "<a href=\"https://colab.research.google.com/github/PriyaP-9704/Codekata-Problems/blob/main/Companies_codekata.ipynb\" target=\"_parent\"><img src=\"https://colab.research.google.com/assets/colab-badge.svg\" alt=\"Open In Colab\"/></a>"
      ]
    },
    {
      "cell_type": "markdown",
      "source": [
        "1.Given a number N and an array of N strings,Print yes, if all strings have atleast one vowel in them otherwise print no."
      ],
      "metadata": {
        "id": "VJvpEhndcfTa"
      }
    },
    {
      "cell_type": "code",
      "execution_count": 1,
      "metadata": {
        "colab": {
          "base_uri": "https://localhost:8080/"
        },
        "id": "Qt54iVM_cayJ",
        "outputId": "2184c602-61b1-4d89-957b-5587f7be2ec3"
      },
      "outputs": [
        {
          "output_type": "stream",
          "name": "stdout",
          "text": [
            "2\n",
            "abc\n",
            "2 ['c']\n"
          ]
        }
      ],
      "source": [
        "n = int(input())\n",
        "arr = list(input())[n:]\n",
        "print(n,arr)"
      ]
    },
    {
      "cell_type": "markdown",
      "source": [
        "3.Given a number N followed by a list of N numbers. Write a program to reverse the list and print the list."
      ],
      "metadata": {
        "id": "BLVzkkladwKg"
      }
    },
    {
      "cell_type": "code",
      "source": [
        "n = int(input())\n",
        "arr = list(map(str, input().split()))\n",
        "rev_arr = (arr[::-1])\n",
        "str = \"->\".join(rev_arr)\n",
        "print(str)"
      ],
      "metadata": {
        "colab": {
          "base_uri": "https://localhost:8080/"
        },
        "id": "SWJb6bTHdzZH",
        "outputId": "375b2dca-785b-4ea0-df73-78176fa6f208"
      },
      "execution_count": 8,
      "outputs": [
        {
          "output_type": "stream",
          "name": "stdout",
          "text": [
            "5\n",
            "1 2 3 4 5\n",
            "['5', '4', '3', '2', '1']\n",
            "5->4->3->2->1\n"
          ]
        }
      ]
    },
    {
      "cell_type": "markdown",
      "source": [
        "4. Given a sentence interchange the between the word 'and'."
      ],
      "metadata": {
        "id": "ilVujtDAgoRL"
      }
    },
    {
      "cell_type": "code",
      "source": [
        "list = [1,2,3,4]\n",
        "print(len(list))"
      ],
      "metadata": {
        "colab": {
          "base_uri": "https://localhost:8080/"
        },
        "id": "U_EqAaLoivtc",
        "outputId": "9aa5ee2b-2c43-44f9-a99e-9bd7cffff5eb"
      },
      "execution_count": 10,
      "outputs": [
        {
          "output_type": "stream",
          "name": "stdout",
          "text": [
            "4\n"
          ]
        }
      ]
    },
    {
      "cell_type": "code",
      "source": [
        "sen = input()\n",
        "#print(sen, type(sen))\n",
        "list_sen = sen.split()\n",
        "#print(list_sen, type(list_sen))\n",
        "length = len(list_sen)\n",
        "key = \"and\"\n",
        "for i in range (0,length,1):\n",
        "    if key in list_sen[i]:\n",
        "        a = list_sen[i-1]\n",
        "        b = list_sen[i+1]\n",
        "        list_sen[i-1] = b\n",
        "        list_sen[i+1] = a\n",
        "\n",
        "interchanged_sen = \" \".join(list_sen)\n",
        "print(interchanged_sen)\n",
        ""
      ],
      "metadata": {
        "colab": {
          "base_uri": "https://localhost:8080/"
        },
        "id": "iLJ5fER5ifGC",
        "outputId": "91ee36c0-c0b3-4440-f344-8dbd50b3990e"
      },
      "execution_count": 15,
      "outputs": [
        {
          "output_type": "stream",
          "name": "stdout",
          "text": [
            "jack and jill went up and down to get wate\n",
            "jack and jill went up and down to get wate <class 'str'>\n",
            "['jack', 'and', 'jill', 'went', 'up', 'and', 'down', 'to', 'get', 'wate'] <class 'list'>\n",
            "jill and jack went down and up to get wate\n"
          ]
        }
      ]
    }
  ]
}