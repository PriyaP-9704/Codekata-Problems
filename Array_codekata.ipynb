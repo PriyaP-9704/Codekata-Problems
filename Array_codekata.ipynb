{
  "nbformat": 4,
  "nbformat_minor": 0,
  "metadata": {
    "colab": {
      "provenance": [],
      "authorship_tag": "ABX9TyMbq0j2cwT0LtlRVtskH9an",
      "include_colab_link": true
    },
    "kernelspec": {
      "name": "python3",
      "display_name": "Python 3"
    },
    "language_info": {
      "name": "python"
    }
  },
  "cells": [
    {
      "cell_type": "markdown",
      "metadata": {
        "id": "view-in-github",
        "colab_type": "text"
      },
      "source": [
        "<a href=\"https://colab.research.google.com/github/PriyaP-9704/Codekata-Problems/blob/main/Array_codekata.ipynb\" target=\"_parent\"><img src=\"https://colab.research.google.com/assets/colab-badge.svg\" alt=\"Open In Colab\"/></a>"
      ]
    },
    {
      "cell_type": "markdown",
      "source": [
        "8. You are a passport issuer, but due to some problems in the system, there are redundant  passport numbers. Your task is to delete all the duplicate passport numbers. You are given a list of passport numbers.\n",
        "\n",
        "Input Description:\n",
        "You are given length of list.Second line,You are given with a list.\n",
        "\n",
        "Output Description:\n",
        "Print the list of passport numbers without duplicates."
      ],
      "metadata": {
        "id": "S1MXfGyL5JAZ"
      }
    },
    {
      "cell_type": "code",
      "execution_count": 7,
      "metadata": {
        "colab": {
          "base_uri": "https://localhost:8080/"
        },
        "id": "6d8Hk8gszr8B",
        "outputId": "f50020a3-ce2b-4456-f644-67a4d74f49c0"
      },
      "outputs": [
        {
          "output_type": "stream",
          "name": "stdout",
          "text": [
            "5\n",
            "A23 B56 B56 C79 D16\n",
            "['A23', 'B56', 'C79', 'D16']\n",
            "A23 B56 C79 D16\n"
          ]
        }
      ],
      "source": [
        "import pandas as pd\n",
        "\n",
        "n = int(input())\n",
        "lst = list(input().split())\n",
        "\n",
        "unique_list = pd.Series(lst).drop_duplicates().tolist()\n",
        "#print(unique_list)\n",
        "print(\" \".join(unique_list))"
      ]
    },
    {
      "cell_type": "code",
      "source": [
        "import numpy as np\n",
        "\n",
        "n = int(input())\n",
        "lst = list(input().split())\n",
        "\n",
        "x = np.array(lst)\n",
        "result = np.unique(x)\n",
        "print(result)\n",
        "print(\" \".join(unique_list))"
      ],
      "metadata": {
        "colab": {
          "base_uri": "https://localhost:8080/"
        },
        "id": "yXRdIKhi4Erc",
        "outputId": "f19a8a6d-2ede-4d8b-ec80-6d0464d7d4e7"
      },
      "execution_count": 6,
      "outputs": [
        {
          "output_type": "stream",
          "name": "stdout",
          "text": [
            "5\n",
            "A23 B56 B56 C79 D16\n",
            "['A23' 'B56' 'C79' 'D16']\n"
          ]
        }
      ]
    }
  ]
}